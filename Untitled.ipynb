{
 "cells": [
  {
   "cell_type": "code",
   "execution_count": 1,
   "id": "8daec1d7",
   "metadata": {},
   "outputs": [],
   "source": [
    "import numpy as np\n",
    "import pandas as pd\n",
    "import matplotlib.pyplot as plt\n",
    "%matplotlib inline\n",
    "import seaborn as sns\n",
    "sns.set(palette=\"Set2\")\n",
    "from sklearn.svm import SVC\n",
    "from sklearn.model_selection import train_test_split\n",
    "from sklearn.metrics import (accuracy_score, f1_score,average_precision_score, confusion_matrix,\n",
    "                             average_precision_score, precision_score, recall_score, roc_auc_score, classification_report, roc_curve,auc )\n",
    "from sklearn.model_selection import GridSearchCV\n",
    "from sklearn.naive_bayes import BernoulliNB, MultinomialNB\n",
    "from sklearn.ensemble import RandomForestClassifier\n",
    "from sklearn.preprocessing import LabelEncoder, MinMaxScaler, StandardScaler\n",
    "from xgboost import XGBClassifier, plot_importance\n",
    "\n",
    "import warnings\n",
    "warnings.filterwarnings(\"ignore\")"
   ]
  },
  {
   "cell_type": "code",
   "execution_count": 2,
   "id": "c9c7ed06",
   "metadata": {},
   "outputs": [],
   "source": [
    "import pandas as pd\n",
    "data=pd.read_csv('frauddetection.csv')"
   ]
  },
  {
   "cell_type": "code",
   "execution_count": 3,
   "id": "50153ff2",
   "metadata": {},
   "outputs": [
    {
     "data": {
      "text/html": [
       "<div>\n",
       "<style scoped>\n",
       "    .dataframe tbody tr th:only-of-type {\n",
       "        vertical-align: middle;\n",
       "    }\n",
       "\n",
       "    .dataframe tbody tr th {\n",
       "        vertical-align: top;\n",
       "    }\n",
       "\n",
       "    .dataframe thead th {\n",
       "        text-align: right;\n",
       "    }\n",
       "</style>\n",
       "<table border=\"1\" class=\"dataframe\">\n",
       "  <thead>\n",
       "    <tr style=\"text-align: right;\">\n",
       "      <th></th>\n",
       "      <th>step</th>\n",
       "      <th>type</th>\n",
       "      <th>amount</th>\n",
       "      <th>nameOrig</th>\n",
       "      <th>oldbalanceOrg</th>\n",
       "      <th>newbalanceOrig</th>\n",
       "      <th>nameDest</th>\n",
       "      <th>oldbalanceDest</th>\n",
       "      <th>newbalanceDest</th>\n",
       "      <th>isFraud</th>\n",
       "      <th>isFlaggedFraud</th>\n",
       "    </tr>\n",
       "  </thead>\n",
       "  <tbody>\n",
       "    <tr>\n",
       "      <th>0</th>\n",
       "      <td>1</td>\n",
       "      <td>PAYMENT</td>\n",
       "      <td>9839.64</td>\n",
       "      <td>C1231006815</td>\n",
       "      <td>170136.0</td>\n",
       "      <td>160296.36</td>\n",
       "      <td>M1979787155</td>\n",
       "      <td>0.0</td>\n",
       "      <td>0.0</td>\n",
       "      <td>0</td>\n",
       "      <td>0</td>\n",
       "    </tr>\n",
       "    <tr>\n",
       "      <th>1</th>\n",
       "      <td>1</td>\n",
       "      <td>PAYMENT</td>\n",
       "      <td>1864.28</td>\n",
       "      <td>C1666544295</td>\n",
       "      <td>21249.0</td>\n",
       "      <td>19384.72</td>\n",
       "      <td>M2044282225</td>\n",
       "      <td>0.0</td>\n",
       "      <td>0.0</td>\n",
       "      <td>0</td>\n",
       "      <td>0</td>\n",
       "    </tr>\n",
       "    <tr>\n",
       "      <th>2</th>\n",
       "      <td>1</td>\n",
       "      <td>TRANSFER</td>\n",
       "      <td>181.00</td>\n",
       "      <td>C1305486145</td>\n",
       "      <td>181.0</td>\n",
       "      <td>0.00</td>\n",
       "      <td>C553264065</td>\n",
       "      <td>0.0</td>\n",
       "      <td>0.0</td>\n",
       "      <td>1</td>\n",
       "      <td>0</td>\n",
       "    </tr>\n",
       "    <tr>\n",
       "      <th>3</th>\n",
       "      <td>1</td>\n",
       "      <td>CASH_OUT</td>\n",
       "      <td>181.00</td>\n",
       "      <td>C840083671</td>\n",
       "      <td>181.0</td>\n",
       "      <td>0.00</td>\n",
       "      <td>C38997010</td>\n",
       "      <td>21182.0</td>\n",
       "      <td>0.0</td>\n",
       "      <td>1</td>\n",
       "      <td>0</td>\n",
       "    </tr>\n",
       "    <tr>\n",
       "      <th>4</th>\n",
       "      <td>1</td>\n",
       "      <td>PAYMENT</td>\n",
       "      <td>11668.14</td>\n",
       "      <td>C2048537720</td>\n",
       "      <td>41554.0</td>\n",
       "      <td>29885.86</td>\n",
       "      <td>M1230701703</td>\n",
       "      <td>0.0</td>\n",
       "      <td>0.0</td>\n",
       "      <td>0</td>\n",
       "      <td>0</td>\n",
       "    </tr>\n",
       "  </tbody>\n",
       "</table>\n",
       "</div>"
      ],
      "text/plain": [
       "   step      type    amount     nameOrig  oldbalanceOrg  newbalanceOrig  \\\n",
       "0     1   PAYMENT   9839.64  C1231006815       170136.0       160296.36   \n",
       "1     1   PAYMENT   1864.28  C1666544295        21249.0        19384.72   \n",
       "2     1  TRANSFER    181.00  C1305486145          181.0            0.00   \n",
       "3     1  CASH_OUT    181.00   C840083671          181.0            0.00   \n",
       "4     1   PAYMENT  11668.14  C2048537720        41554.0        29885.86   \n",
       "\n",
       "      nameDest  oldbalanceDest  newbalanceDest  isFraud  isFlaggedFraud  \n",
       "0  M1979787155             0.0             0.0        0               0  \n",
       "1  M2044282225             0.0             0.0        0               0  \n",
       "2   C553264065             0.0             0.0        1               0  \n",
       "3    C38997010         21182.0             0.0        1               0  \n",
       "4  M1230701703             0.0             0.0        0               0  "
      ]
     },
     "execution_count": 3,
     "metadata": {},
     "output_type": "execute_result"
    }
   ],
   "source": [
    "data.head()"
   ]
  },
  {
   "cell_type": "code",
   "execution_count": 4,
   "id": "9b6aee15",
   "metadata": {},
   "outputs": [
    {
     "data": {
      "text/html": [
       "<div>\n",
       "<style scoped>\n",
       "    .dataframe tbody tr th:only-of-type {\n",
       "        vertical-align: middle;\n",
       "    }\n",
       "\n",
       "    .dataframe tbody tr th {\n",
       "        vertical-align: top;\n",
       "    }\n",
       "\n",
       "    .dataframe thead th {\n",
       "        text-align: right;\n",
       "    }\n",
       "</style>\n",
       "<table border=\"1\" class=\"dataframe\">\n",
       "  <thead>\n",
       "    <tr style=\"text-align: right;\">\n",
       "      <th></th>\n",
       "      <th>step</th>\n",
       "      <th>type</th>\n",
       "      <th>amount</th>\n",
       "      <th>nameOrig</th>\n",
       "      <th>oldbalanceOrg</th>\n",
       "      <th>newbalanceOrig</th>\n",
       "      <th>nameDest</th>\n",
       "      <th>oldbalanceDest</th>\n",
       "      <th>newbalanceDest</th>\n",
       "      <th>isFraud</th>\n",
       "      <th>isFlaggedFraud</th>\n",
       "    </tr>\n",
       "  </thead>\n",
       "  <tbody>\n",
       "    <tr>\n",
       "      <th>6362615</th>\n",
       "      <td>743</td>\n",
       "      <td>CASH_OUT</td>\n",
       "      <td>339682.13</td>\n",
       "      <td>C786484425</td>\n",
       "      <td>339682.13</td>\n",
       "      <td>0.0</td>\n",
       "      <td>C776919290</td>\n",
       "      <td>0.00</td>\n",
       "      <td>339682.13</td>\n",
       "      <td>1</td>\n",
       "      <td>0</td>\n",
       "    </tr>\n",
       "    <tr>\n",
       "      <th>6362616</th>\n",
       "      <td>743</td>\n",
       "      <td>TRANSFER</td>\n",
       "      <td>6311409.28</td>\n",
       "      <td>C1529008245</td>\n",
       "      <td>6311409.28</td>\n",
       "      <td>0.0</td>\n",
       "      <td>C1881841831</td>\n",
       "      <td>0.00</td>\n",
       "      <td>0.00</td>\n",
       "      <td>1</td>\n",
       "      <td>0</td>\n",
       "    </tr>\n",
       "    <tr>\n",
       "      <th>6362617</th>\n",
       "      <td>743</td>\n",
       "      <td>CASH_OUT</td>\n",
       "      <td>6311409.28</td>\n",
       "      <td>C1162922333</td>\n",
       "      <td>6311409.28</td>\n",
       "      <td>0.0</td>\n",
       "      <td>C1365125890</td>\n",
       "      <td>68488.84</td>\n",
       "      <td>6379898.11</td>\n",
       "      <td>1</td>\n",
       "      <td>0</td>\n",
       "    </tr>\n",
       "    <tr>\n",
       "      <th>6362618</th>\n",
       "      <td>743</td>\n",
       "      <td>TRANSFER</td>\n",
       "      <td>850002.52</td>\n",
       "      <td>C1685995037</td>\n",
       "      <td>850002.52</td>\n",
       "      <td>0.0</td>\n",
       "      <td>C2080388513</td>\n",
       "      <td>0.00</td>\n",
       "      <td>0.00</td>\n",
       "      <td>1</td>\n",
       "      <td>0</td>\n",
       "    </tr>\n",
       "    <tr>\n",
       "      <th>6362619</th>\n",
       "      <td>743</td>\n",
       "      <td>CASH_OUT</td>\n",
       "      <td>850002.52</td>\n",
       "      <td>C1280323807</td>\n",
       "      <td>850002.52</td>\n",
       "      <td>0.0</td>\n",
       "      <td>C873221189</td>\n",
       "      <td>6510099.11</td>\n",
       "      <td>7360101.63</td>\n",
       "      <td>1</td>\n",
       "      <td>0</td>\n",
       "    </tr>\n",
       "  </tbody>\n",
       "</table>\n",
       "</div>"
      ],
      "text/plain": [
       "         step      type      amount     nameOrig  oldbalanceOrg  \\\n",
       "6362615   743  CASH_OUT   339682.13   C786484425      339682.13   \n",
       "6362616   743  TRANSFER  6311409.28  C1529008245     6311409.28   \n",
       "6362617   743  CASH_OUT  6311409.28  C1162922333     6311409.28   \n",
       "6362618   743  TRANSFER   850002.52  C1685995037      850002.52   \n",
       "6362619   743  CASH_OUT   850002.52  C1280323807      850002.52   \n",
       "\n",
       "         newbalanceOrig     nameDest  oldbalanceDest  newbalanceDest  isFraud  \\\n",
       "6362615             0.0   C776919290            0.00       339682.13        1   \n",
       "6362616             0.0  C1881841831            0.00            0.00        1   \n",
       "6362617             0.0  C1365125890        68488.84      6379898.11        1   \n",
       "6362618             0.0  C2080388513            0.00            0.00        1   \n",
       "6362619             0.0   C873221189      6510099.11      7360101.63        1   \n",
       "\n",
       "         isFlaggedFraud  \n",
       "6362615               0  \n",
       "6362616               0  \n",
       "6362617               0  \n",
       "6362618               0  \n",
       "6362619               0  "
      ]
     },
     "execution_count": 4,
     "metadata": {},
     "output_type": "execute_result"
    }
   ],
   "source": [
    "data.tail()"
   ]
  },
  {
   "cell_type": "code",
<<<<<<< HEAD
   "execution_count": 5,
   "id": "2cec20eb",
   "metadata": {},
   "outputs": [
    {
     "data": {
      "text/plain": [
       "0    6362604\n",
       "1         16\n",
       "Name: isFlaggedFraud, dtype: int64"
      ]
     },
     "execution_count": 5,
     "metadata": {},
     "output_type": "execute_result"
    }
   ],
   "source": [
    "data['isFlaggedFraud'].value_counts()"
   ]
  },
  {
   "cell_type": "code",
   "execution_count": 6,
   "id": "51756ab9",
   "metadata": {},
   "outputs": [
    {
     "data": {
      "text/plain": [
       "0    6354407\n",
       "1       8213\n",
       "Name: isFraud, dtype: int64"
      ]
     },
     "execution_count": 6,
     "metadata": {},
     "output_type": "execute_result"
    }
   ],
   "source": [
    "data['isFraud'].value_counts()"
   ]
  },
  {
   "cell_type": "code",
   "execution_count": 7,
   "id": "4de7b31e",
   "metadata": {},
   "outputs": [
    {
     "data": {
      "text/plain": [
       "step              0\n",
       "type              0\n",
       "amount            0\n",
       "nameOrig          0\n",
       "oldbalanceOrg     0\n",
       "newbalanceOrig    0\n",
       "nameDest          0\n",
       "oldbalanceDest    0\n",
       "newbalanceDest    0\n",
       "isFraud           0\n",
       "isFlaggedFraud    0\n",
       "dtype: int64"
      ]
     },
     "execution_count": 7,
     "metadata": {},
     "output_type": "execute_result"
    }
   ],
   "source": [
    "data.isnull().sum() #Checking for Null values in dataset"
   ]
  },
  {
   "cell_type": "code",
   "execution_count": 8,
   "id": "fa9c7df7",
   "metadata": {},
   "outputs": [
    {
     "data": {
      "text/plain": [
       "0"
      ]
     },
     "execution_count": 8,
     "metadata": {},
     "output_type": "execute_result"
    }
   ],
   "source": [
    "data.duplicated().sum() #There are no null values in the data\n"
   ]
  },
  {
   "cell_type": "code",
   "execution_count": 10,
   "id": "2f52933b",
   "metadata": {},
   "outputs": [
    {
     "name": "stdout",
     "output_type": "stream",
     "text": [
      "['step', 'type', 'amount', 'nameOrig', 'oldbalanceOrg', 'newbalanceOrig', 'nameDest', 'oldbalanceDest', 'newbalanceDest', 'isFraud', 'isFlaggedFraud']\n",
      "The dataset has shape (6362620, 11)\n"
     ]
    }
   ],
   "source": [
    "#There are no duplicate values in the data\n",
    "print(list(data.columns))\n",
    "\n",
    "# shape of data\n",
    "print(f'The dataset has shape {data.shape}')"
   ]
  },
  {
   "cell_type": "code",
   "execution_count": 11,
   "id": "0a6e177f",
   "metadata": {},
   "outputs": [
    {
     "data": {
      "text/html": [
       "<div>\n",
       "<style scoped>\n",
       "    .dataframe tbody tr th:only-of-type {\n",
       "        vertical-align: middle;\n",
       "    }\n",
       "\n",
       "    .dataframe tbody tr th {\n",
       "        vertical-align: top;\n",
       "    }\n",
       "\n",
       "    .dataframe thead th {\n",
       "        text-align: right;\n",
       "    }\n",
       "</style>\n",
       "<table border=\"1\" class=\"dataframe\">\n",
       "  <thead>\n",
       "    <tr style=\"text-align: right;\">\n",
       "      <th></th>\n",
       "      <th>step</th>\n",
       "      <th>amount</th>\n",
       "      <th>oldbalanceOrg</th>\n",
       "      <th>newbalanceOrig</th>\n",
       "      <th>oldbalanceDest</th>\n",
       "      <th>newbalanceDest</th>\n",
       "      <th>isFraud</th>\n",
       "      <th>isFlaggedFraud</th>\n",
       "    </tr>\n",
       "  </thead>\n",
       "  <tbody>\n",
       "    <tr>\n",
       "      <th>count</th>\n",
       "      <td>6.362620e+06</td>\n",
       "      <td>6.362620e+06</td>\n",
       "      <td>6.362620e+06</td>\n",
       "      <td>6.362620e+06</td>\n",
       "      <td>6.362620e+06</td>\n",
       "      <td>6.362620e+06</td>\n",
       "      <td>6.362620e+06</td>\n",
       "      <td>6.362620e+06</td>\n",
       "    </tr>\n",
       "    <tr>\n",
       "      <th>mean</th>\n",
       "      <td>2.433972e+02</td>\n",
       "      <td>1.798619e+05</td>\n",
       "      <td>8.338831e+05</td>\n",
       "      <td>8.551137e+05</td>\n",
       "      <td>1.100702e+06</td>\n",
       "      <td>1.224996e+06</td>\n",
       "      <td>1.290820e-03</td>\n",
       "      <td>2.514687e-06</td>\n",
       "    </tr>\n",
       "    <tr>\n",
       "      <th>std</th>\n",
       "      <td>1.423320e+02</td>\n",
       "      <td>6.038582e+05</td>\n",
       "      <td>2.888243e+06</td>\n",
       "      <td>2.924049e+06</td>\n",
       "      <td>3.399180e+06</td>\n",
       "      <td>3.674129e+06</td>\n",
       "      <td>3.590480e-02</td>\n",
       "      <td>1.585775e-03</td>\n",
       "    </tr>\n",
       "    <tr>\n",
       "      <th>min</th>\n",
       "      <td>1.000000e+00</td>\n",
       "      <td>0.000000e+00</td>\n",
       "      <td>0.000000e+00</td>\n",
       "      <td>0.000000e+00</td>\n",
       "      <td>0.000000e+00</td>\n",
       "      <td>0.000000e+00</td>\n",
       "      <td>0.000000e+00</td>\n",
       "      <td>0.000000e+00</td>\n",
       "    </tr>\n",
       "    <tr>\n",
       "      <th>25%</th>\n",
       "      <td>1.560000e+02</td>\n",
       "      <td>1.338957e+04</td>\n",
       "      <td>0.000000e+00</td>\n",
       "      <td>0.000000e+00</td>\n",
       "      <td>0.000000e+00</td>\n",
       "      <td>0.000000e+00</td>\n",
       "      <td>0.000000e+00</td>\n",
       "      <td>0.000000e+00</td>\n",
       "    </tr>\n",
       "    <tr>\n",
       "      <th>50%</th>\n",
       "      <td>2.390000e+02</td>\n",
       "      <td>7.487194e+04</td>\n",
       "      <td>1.420800e+04</td>\n",
       "      <td>0.000000e+00</td>\n",
       "      <td>1.327057e+05</td>\n",
       "      <td>2.146614e+05</td>\n",
       "      <td>0.000000e+00</td>\n",
       "      <td>0.000000e+00</td>\n",
       "    </tr>\n",
       "    <tr>\n",
       "      <th>75%</th>\n",
       "      <td>3.350000e+02</td>\n",
       "      <td>2.087215e+05</td>\n",
       "      <td>1.073152e+05</td>\n",
       "      <td>1.442584e+05</td>\n",
       "      <td>9.430367e+05</td>\n",
       "      <td>1.111909e+06</td>\n",
       "      <td>0.000000e+00</td>\n",
       "      <td>0.000000e+00</td>\n",
       "    </tr>\n",
       "    <tr>\n",
       "      <th>max</th>\n",
       "      <td>7.430000e+02</td>\n",
       "      <td>9.244552e+07</td>\n",
       "      <td>5.958504e+07</td>\n",
       "      <td>4.958504e+07</td>\n",
       "      <td>3.560159e+08</td>\n",
       "      <td>3.561793e+08</td>\n",
       "      <td>1.000000e+00</td>\n",
       "      <td>1.000000e+00</td>\n",
       "    </tr>\n",
       "  </tbody>\n",
       "</table>\n",
       "</div>"
      ],
      "text/plain": [
       "               step        amount  oldbalanceOrg  newbalanceOrig  \\\n",
       "count  6.362620e+06  6.362620e+06   6.362620e+06    6.362620e+06   \n",
       "mean   2.433972e+02  1.798619e+05   8.338831e+05    8.551137e+05   \n",
       "std    1.423320e+02  6.038582e+05   2.888243e+06    2.924049e+06   \n",
       "min    1.000000e+00  0.000000e+00   0.000000e+00    0.000000e+00   \n",
       "25%    1.560000e+02  1.338957e+04   0.000000e+00    0.000000e+00   \n",
       "50%    2.390000e+02  7.487194e+04   1.420800e+04    0.000000e+00   \n",
       "75%    3.350000e+02  2.087215e+05   1.073152e+05    1.442584e+05   \n",
       "max    7.430000e+02  9.244552e+07   5.958504e+07    4.958504e+07   \n",
       "\n",
       "       oldbalanceDest  newbalanceDest       isFraud  isFlaggedFraud  \n",
       "count    6.362620e+06    6.362620e+06  6.362620e+06    6.362620e+06  \n",
       "mean     1.100702e+06    1.224996e+06  1.290820e-03    2.514687e-06  \n",
       "std      3.399180e+06    3.674129e+06  3.590480e-02    1.585775e-03  \n",
       "min      0.000000e+00    0.000000e+00  0.000000e+00    0.000000e+00  \n",
       "25%      0.000000e+00    0.000000e+00  0.000000e+00    0.000000e+00  \n",
       "50%      1.327057e+05    2.146614e+05  0.000000e+00    0.000000e+00  \n",
       "75%      9.430367e+05    1.111909e+06  0.000000e+00    0.000000e+00  \n",
       "max      3.560159e+08    3.561793e+08  1.000000e+00    1.000000e+00  "
      ]
     },
     "execution_count": 11,
     "metadata": {},
     "output_type": "execute_result"
    }
   ],
   "source": [
    "data.describe() #Statistical Summary of the data"
   ]
  },
  {
   "cell_type": "code",
   "execution_count": 12,
   "id": "8ceada43",
   "metadata": {},
   "outputs": [
    {
     "name": "stdout",
     "output_type": "stream",
     "text": [
      "<class 'pandas.core.frame.DataFrame'>\n",
      "RangeIndex: 6362620 entries, 0 to 6362619\n",
      "Data columns (total 11 columns):\n",
      " #   Column          Dtype  \n",
      "---  ------          -----  \n",
      " 0   step            int64  \n",
      " 1   type            object \n",
      " 2   amount          float64\n",
      " 3   nameOrig        object \n",
      " 4   oldbalanceOrg   float64\n",
      " 5   newbalanceOrig  float64\n",
      " 6   nameDest        object \n",
      " 7   oldbalanceDest  float64\n",
      " 8   newbalanceDest  float64\n",
      " 9   isFraud         int64  \n",
      " 10  isFlaggedFraud  int64  \n",
      "dtypes: float64(5), int64(3), object(3)\n",
      "memory usage: 534.0+ MB\n"
     ]
    }
   ],
   "source": [
    "data.info()\n"
   ]
  },
  {
   "cell_type": "markdown",
   "id": "09d3f8eb",
   "metadata": {},
   "source": [
    "# Proportion of type of Transactions"
   ]
  },
  {
   "cell_type": "code",
   "execution_count": 13,
   "id": "07350eaf",
   "metadata": {},
   "outputs": [
    {
     "data": {
      "image/png": "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\n",
      "text/plain": [
       "<Figure size 800x800 with 1 Axes>"
      ]
     },
     "metadata": {},
     "output_type": "display_data"
    }
   ],
   "source": [
    "type = data['type'].value_counts()\n",
    "transaction = type.index\n",
    "count = type.values\n",
    "\n",
    "# drawing piechart\n",
    "plt.figure(figsize=(8,8))\n",
    "plt.pie(count, labels=transaction, autopct='%1.0f%%')\n",
    "plt.legend(loc='upper left')\n",
    "plt.show()"
   ]
  },
  {
   "cell_type": "markdown",
   "id": "6e386013",
   "metadata": {},
   "source": [
    "# Count of Fraud and Non-Fraud Transactions in each type of Transaction"
   ]
  },
  {
   "cell_type": "code",
   "execution_count": 14,
   "id": "b4e68692",
   "metadata": {},
   "outputs": [
    {
     "data": {
      "image/png": "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\n",
      "text/plain": [
       "<Figure size 1200x800 with 1 Axes>"
      ]
     },
     "metadata": {},
     "output_type": "display_data"
    }
   ],
   "source": [
    "plt.figure(figsize=(12,8))\n",
    "ax=sns.countplot(x = \"type\", hue=\"isFraud\", data = data)\n",
    "plt.title('Types of Transaction nonFraud and Fraud')\n",
    "for p in ax.patches:\n",
    "        ax.annotate('{:.1f}'.format(p.get_height()), (p.get_x()+0.1, p.get_height()+50))"
   ]
  },
  {
   "cell_type": "code",
   "execution_count": null,
   "id": "eca121d5",
=======
   "execution_count": null,
   "id": "2cec20eb",
>>>>>>> 8daacbf65baeaeabb42663385425b5bb2297130a
   "metadata": {},
   "outputs": [],
   "source": []
  }
 ],
 "metadata": {
  "kernelspec": {
   "display_name": "Python 3 (ipykernel)",
   "language": "python",
   "name": "python3"
  },
  "language_info": {
   "codemirror_mode": {
    "name": "ipython",
    "version": 3
   },
   "file_extension": ".py",
   "mimetype": "text/x-python",
   "name": "python",
   "nbconvert_exporter": "python",
   "pygments_lexer": "ipython3",
   "version": "3.9.13"
  }
 },
 "nbformat": 4,
 "nbformat_minor": 5
}
